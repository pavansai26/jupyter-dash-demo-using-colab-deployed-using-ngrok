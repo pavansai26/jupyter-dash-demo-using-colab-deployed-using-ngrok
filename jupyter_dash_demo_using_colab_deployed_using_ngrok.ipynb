{
  "nbformat": 4,
  "nbformat_minor": 0,
  "metadata": {
    "colab": {
      "name": "jupyter dash demo using colab deployed using ngrok.ipynb",
      "provenance": [],
      "authorship_tag": "ABX9TyMB85/h6KTH52EtBnnPHRoe",
      "include_colab_link": true
    },
    "kernelspec": {
      "name": "python3",
      "display_name": "Python 3"
    },
    "accelerator": "GPU"
  },
  "cells": [
    {
      "cell_type": "markdown",
      "metadata": {
        "id": "view-in-github",
        "colab_type": "text"
      },
      "source": [
        "<a href=\"https://colab.research.google.com/github/pavansai26/jupyter-dash-demo-using-colab-deployed-using-ngrok/blob/master/jupyter_dash_demo_using_colab_deployed_using_ngrok.ipynb\" target=\"_parent\"><img src=\"https://colab.research.google.com/assets/colab-badge.svg\" alt=\"Open In Colab\"/></a>"
      ]
    },
    {
      "cell_type": "code",
      "metadata": {
        "id": "NkB1LjlhjXlV",
        "colab_type": "code",
        "colab": {}
      },
      "source": [
        "!pip install jupyter-dash"
      ],
      "execution_count": null,
      "outputs": []
    },
    {
      "cell_type": "code",
      "metadata": {
        "id": "1RbpwReEjx_w",
        "colab_type": "code",
        "colab": {}
      },
      "source": [
        "import plotly.express as px\n",
        "from jupyter_dash import JupyterDash\n",
        "import dash_core_components as dcc\n",
        "import dash_html_components as html\n",
        "from dash.dependencies import Input, Output # load data\n"
      ],
      "execution_count": null,
      "outputs": []
    },
    {
      "cell_type": "code",
      "metadata": {
        "id": "tj32Ai8RkmNX",
        "colab_type": "code",
        "colab": {}
      },
      "source": [
        "df = px.data.tips() # build app\n",
        "app = JupyterDash(__name__)\n",
        "app.layout = html.Div([html.H1('jupyterdash demo'),dcc.Graph(id='graph'),\n",
        "                      html.Label(['colorscale',dcc.Dropdown(id='colorscale-dropdown',clearable =False,\n",
        "                                               value = 'plasma', options = [{'label': c, 'value': c}for c in px.colors.named_colorscales()\n",
        "                                               ] )\n",
        "                                  ]) \n",
        "                      ]) # define callback to update the graph\n",
        "@app.callback(Output('graph','figure'),[Input('colorscale-dropdown','value')])\n",
        "def update_figure(colorscale):\n",
        "  return px.scatter(df,x='total_bill',y='tip',color='size',color_continuous_scale=colorscale,render_mode='webgl',title='tips') \n",
        "  # run the app and display result inline in the notebook"
      ],
      "execution_count": 5,
      "outputs": []
    },
    {
      "cell_type": "code",
      "metadata": {
        "id": "VBLyp4CRp3dO",
        "colab_type": "code",
        "colab": {
          "base_uri": "https://localhost:8080/",
          "height": 34
        },
        "outputId": "414f94f2-a4d8-4d7f-94aa-e67a0149689d"
      },
      "source": [
        "app.run_server(mode='external') # don't use internal "
      ],
      "execution_count": 6,
      "outputs": [
        {
          "output_type": "stream",
          "text": [
            "Dash app running on http://127.0.0.1:8050/\n"
          ],
          "name": "stdout"
        }
      ]
    },
    {
      "cell_type": "code",
      "metadata": {
        "id": "WEpeoFIPrvzE",
        "colab_type": "code",
        "colab": {
          "base_uri": "https://localhost:8080/",
          "height": 671
        },
        "outputId": "81b9740c-4df4-4b16-bb1d-827ece7d7a27"
      },
      "source": [
        "app.run_server(mode='inline') # don't use internal "
      ],
      "execution_count": 8,
      "outputs": [
        {
          "output_type": "display_data",
          "data": {
            "text/html": [
              "\n",
              "        <iframe\n",
              "            width=\"800\"\n",
              "            height=\"650\"\n",
              "            src=\"http://127.0.0.1:8050/\"\n",
              "            frameborder=\"0\"\n",
              "            allowfullscreen\n",
              "        ></iframe>\n",
              "        "
            ],
            "text/plain": [
              "<IPython.lib.display.IFrame at 0x7f12205c6908>"
            ]
          },
          "metadata": {
            "tags": []
          }
        }
      ]
    },
    {
      "cell_type": "markdown",
      "metadata": {
        "id": "rXGRHeFyrQVu",
        "colab_type": "text"
      },
      "source": [
        "if you open that url no output will be present we need a server up to this we don't give any server"
      ]
    },
    {
      "cell_type": "code",
      "metadata": {
        "id": "_7VscGz2rIPF",
        "colab_type": "code",
        "colab": {
          "base_uri": "https://localhost:8080/",
          "height": 222
        },
        "outputId": "6cd1fdc9-d61c-4d31-fb6c-69c97b36c888"
      },
      "source": [
        "!pip install pyngrok"
      ],
      "execution_count": 7,
      "outputs": [
        {
          "output_type": "stream",
          "text": [
            "Collecting pyngrok\n",
            "  Downloading https://files.pythonhosted.org/packages/fd/05/b8dc0bf2490953c26aa1f72f51587e7aa4ac889166c08e7f5fecc42cc989/pyngrok-4.1.6.tar.gz\n",
            "Requirement already satisfied: future in /usr/local/lib/python3.6/dist-packages (from pyngrok) (0.16.0)\n",
            "Requirement already satisfied: PyYAML in /usr/local/lib/python3.6/dist-packages (from pyngrok) (3.13)\n",
            "Building wheels for collected packages: pyngrok\n",
            "  Building wheel for pyngrok (setup.py) ... \u001b[?25l\u001b[?25hdone\n",
            "  Created wheel for pyngrok: filename=pyngrok-4.1.6-cp36-none-any.whl size=16282 sha256=22a5fe84d7b5241ca194c84de127eeeb6ea9107728df46780fae1d7dd30e581e\n",
            "  Stored in directory: /root/.cache/pip/wheels/21/67/6f/70d6dabe1ccc41ba3c618ecb93bf8ee8e2954a4290b6f0a8df\n",
            "Successfully built pyngrok\n",
            "Installing collected packages: pyngrok\n",
            "Successfully installed pyngrok-4.1.6\n"
          ],
          "name": "stdout"
        }
      ]
    },
    {
      "cell_type": "code",
      "metadata": {
        "id": "YUHSDijRrmZ6",
        "colab_type": "code",
        "colab": {
          "base_uri": "https://localhost:8080/",
          "height": 34
        },
        "outputId": "c260e799-5f3a-4ce5-c6c5-fb32a25f143b"
      },
      "source": [
        "! ngrok authtoken 1eczUsFylCjIbeg0CA9h48P2WWF_3Wsu4d3MW1CTfUJopt7Rn"
      ],
      "execution_count": 9,
      "outputs": [
        {
          "output_type": "stream",
          "text": [
            "Authtoken saved to configuration file: /root/.ngrok2/ngrok.yml\n"
          ],
          "name": "stdout"
        }
      ]
    },
    {
      "cell_type": "code",
      "metadata": {
        "id": "2T6jqEcwtIOr",
        "colab_type": "code",
        "colab": {}
      },
      "source": [
        "from pyngrok import ngrok\n",
        "\n",
        "# open a http tunnel on the default port 80\n",
        "public_url = ngrok.connect(port = '8050')\n",
        "\n",
        "# open a ssh tunnel\n",
        "ssh_url = ngrok.connect(22, 'tcp')"
      ],
      "execution_count": 10,
      "outputs": []
    },
    {
      "cell_type": "code",
      "metadata": {
        "id": "B4nk7SE4utyg",
        "colab_type": "code",
        "colab": {
          "base_uri": "https://localhost:8080/",
          "height": 35
        },
        "outputId": "1e805faa-c626-4892-abb4-d5cb89995c14"
      },
      "source": [
        "public_url"
      ],
      "execution_count": 11,
      "outputs": [
        {
          "output_type": "execute_result",
          "data": {
            "application/vnd.google.colaboratory.intrinsic": {
              "type": "string"
            },
            "text/plain": [
              "'http://bb26276371f9.ngrok.io'"
            ]
          },
          "metadata": {
            "tags": []
          },
          "execution_count": 11
        }
      ]
    },
    {
      "cell_type": "code",
      "metadata": {
        "id": "MYVqTiPiuwde",
        "colab_type": "code",
        "colab": {}
      },
      "source": [
        "ngrok.kill()"
      ],
      "execution_count": null,
      "outputs": []
    }
  ]
}